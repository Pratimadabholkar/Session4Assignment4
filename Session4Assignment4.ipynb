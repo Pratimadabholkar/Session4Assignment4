{
 "cells": [
  {
   "cell_type": "code",
   "execution_count": 1,
   "metadata": {},
   "outputs": [
    {
     "name": "stdout",
     "output_type": "stream",
     "text": [
      "Enter the value of side 1 = 6\n",
      "Enter the value of side 2 = 7\n",
      "Enter the value of side 3 = 7\n",
      "Area of the Triagle: 18.973665961010276\n"
     ]
    }
   ],
   "source": [
    "# 1.1 Write a Python Program(with class concepts) to find the area of the triangle using the below\n",
    "# formula.\n",
    "# area = (s*(s-a)*(s-b)*(s-c)) ** 0.5\n",
    "# Function to take the length of the sides of triangle from user should be defined in the parent\n",
    "# class and function to calculate the area should be defined in subclass.\n",
    "\n",
    "# Python Program to find Area of a Triangle using Functions\n",
    "import math\n",
    "class Area_of_Triangle:\n",
    "    def __init__(self,a,b,c):\n",
    "        self.a = float(a)\n",
    "        self.b = float(b)\n",
    "        self.c = float(c)\n",
    "    def cal_area(self):\n",
    "        s=(self.a + self.b + self.c)/2\n",
    "        return((s*(s-self.a)*(s-self.b)*(s-self.c))**0.5)\n",
    "a=input(\"Enter the value of side 1 = \")\n",
    "b=input(\"Enter the value of side 2 = \")\n",
    "c=input(\"Enter the value of side 3 = \")\n",
    "obj = Area_of_Triangle(a, b, c)\n",
    "print(\"Area of the Triagle: {}\".format(obj.cal_area()))"
   ]
  },
  {
   "cell_type": "code",
   "execution_count": 2,
   "metadata": {},
   "outputs": [
    {
     "name": "stdout",
     "output_type": "stream",
     "text": [
      "Please enter the list of words with space in between: pratima nishant shweta nikita sourabh abhishek\n",
      "Minimum length of words to keep: 7\n",
      "['abhishek']\n"
     ]
    }
   ],
   "source": [
    "#1.2 Write a function filter_long_words() that takes a list of words and an integer n and returns\n",
    "#the list of words that are longer than n.\n",
    "def filter_long_words(string,number):\n",
    "    list_of_min_lengh_words = []\n",
    "    for i in range(len(string)):\n",
    "        if len(string[i]) > number:\n",
    "            list_of_min_lengh_words.append(string[i])\n",
    "    return list_of_min_lengh_words\n",
    "listofwords = input(\"Please enter the list of words with space in between: \").split()\n",
    "length = int(input(\"Minimum length of words to keep: \"))\n",
    "print(str(filter_long_words(listofwords,length)))"
   ]
  },
  {
   "cell_type": "code",
   "execution_count": 3,
   "metadata": {},
   "outputs": [
    {
     "name": "stdout",
     "output_type": "stream",
     "text": [
      "Please enter the list of words with space in between: sourabh abhishek shweta nikita\n",
      "['7', '8', '6', '6']\n"
     ]
    }
   ],
   "source": [
    "#2.1 Write a Python program using function concept that maps list of words into a list of integers\n",
    "#representing the lengths of the corresponding words .\n",
    "def map_words_integer(string):\n",
    "    list_integer = []\n",
    "    for i in range(len(string)):\n",
    "        list_integer.append(str(len(string[i])))\n",
    "    return list_integer\n",
    "listofwords = input(\"Please enter the list of words with space in between: \").split()\n",
    "print(str(map_words_integer(listofwords)))"
   ]
  },
  {
   "cell_type": "code",
   "execution_count": 4,
   "metadata": {},
   "outputs": [
    {
     "name": "stdout",
     "output_type": "stream",
     "text": [
      "Please enter single character: a\n",
      "True\n"
     ]
    }
   ],
   "source": [
    "#Write a Python function which takes a character (i.e. a string of length 1) and returns True if\n",
    "#it is a vowel, False otherwise.\n",
    "# checking True value\n",
    "def check_vowel(string):\n",
    "    list_vowel = ['a','e','i','o','u']\n",
    "    for i in list_vowel:\n",
    "        if(string == i):\n",
    "            return True\n",
    "        else:\n",
    "            return False\n",
    "char = input(\"Please enter single character: \")\n",
    "print(str(check_vowel(char)))"
   ]
  },
  {
   "cell_type": "code",
   "execution_count": 5,
   "metadata": {},
   "outputs": [
    {
     "name": "stdout",
     "output_type": "stream",
     "text": [
      "Please enter single character: d\n",
      "False\n"
     ]
    }
   ],
   "source": [
    "#Write a Python function which takes a character (i.e. a string of length 1) and returns True if\n",
    "#it is a vowel, False otherwise.\n",
    "# checking false value\n",
    "def check_vowel(string):\n",
    "    list_vowel = ['a','e','i','o','u']\n",
    "    for i in list_vowel:\n",
    "        if(string == i):\n",
    "            return True\n",
    "        else:\n",
    "            return False\n",
    "char = input(\"Please enter single character: \")\n",
    "print(str(check_vowel(char)))"
   ]
  }
 ],
 "metadata": {
  "kernelspec": {
   "display_name": "Python 3",
   "language": "python",
   "name": "python3"
  },
  "language_info": {
   "codemirror_mode": {
    "name": "ipython",
    "version": 3
   },
   "file_extension": ".py",
   "mimetype": "text/x-python",
   "name": "python",
   "nbconvert_exporter": "python",
   "pygments_lexer": "ipython3",
   "version": "3.6.5"
  }
 },
 "nbformat": 4,
 "nbformat_minor": 2
}
